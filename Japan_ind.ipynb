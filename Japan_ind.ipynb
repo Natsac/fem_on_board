{
 "cells": [
  {
   "cell_type": "code",
   "execution_count": 1,
   "id": "6c3d01ae",
   "metadata": {},
   "outputs": [],
   "source": [
    "import pandas as pd"
   ]
  },
  {
   "cell_type": "code",
   "execution_count": 2,
   "id": "94327cee",
   "metadata": {},
   "outputs": [],
   "source": [
    "import numpy as np"
   ]
  },
  {
   "cell_type": "code",
   "execution_count": 3,
   "id": "e79ee12e",
   "metadata": {},
   "outputs": [],
   "source": [
    "AF6 = pd.read_csv(\"JP5.csv\")"
   ]
  },
  {
   "cell_type": "code",
   "execution_count": 4,
   "id": "a6b1ed0c",
   "metadata": {},
   "outputs": [],
   "source": [
    "AF6ind = AF6"
   ]
  },
  {
   "cell_type": "code",
   "execution_count": 5,
   "id": "9de126be",
   "metadata": {},
   "outputs": [],
   "source": [
    "AF6ind[\"Ind\"] = AF6[\"Ind\"].replace(\"AGRICULTURE & FISHING\",\"primary\")\n",
    "AF6ind[\"Ind\"] = AF6[\"Ind\"].replace(\"DIVERSIFIED MINING\",\"primary\")\n",
    "AF6ind[\"Ind\"] = AF6[\"Ind\"].replace(\"DIVERSIFIED OIL\",\"primary\")\n",
    "AF6ind[\"Ind\"] = AF6[\"Ind\"].replace(\"IRON & STEEL MINING\",\"primary\")  \n",
    "AF6ind[\"Ind\"] = AF6[\"Ind\"].replace(\"METAL ORE MINING\",\"primary\")            \n",
    "AF6ind[\"Ind\"] = AF6[\"Ind\"].replace(\"MINING & EXTRACTING INDUSTRIES\")\n",
    "AF6ind[\"Ind\"] = AF6[\"Ind\"].replace(\"NATURAL GAS UTILITIES\",\"primary\")\n",
    "AF6ind[\"Ind\"] = AF6[\"Ind\"].replace(\"NON OIL ENERGY SOURCES\",\"primary\")\n",
    "AF6ind[\"Ind\"] = AF6[\"Ind\"].replace(\"NON-FERROUS METALS MINING\",\"primary\")\n",
    "AF6ind[\"Ind\"] = AF6[\"Ind\"].replace(\"NONFERROUS METALS\",\"primary\")\n",
    "AF6ind[\"Ind\"] = AF6[\"Ind\"].replace(\"OIL-CRUDE PRODUCER\",\"primary\")     \n",
    "AF6ind[\"Ind\"] = AF6[\"Ind\"].replace(\"OIL-INTERNATIONALS\",\"primary\")             \n",
    "AF6ind[\"Ind\"] = AF6[\"Ind\"].replace(\"PLANTATIONS\", \"primary\")                  \n",
    "AF6ind[\"Ind\"] = AF6[\"Ind\"].replace(\"PRECIOUS METALS & MINERALS\")\n",
    "AF6ind[\"Ind\"] = AF6[\"Ind\"].replace(\"AIR TRANSPORT CARRIERS\",\"secondary\")\n",
    "AF6ind[\"Ind\"] = AF6[\"Ind\"].replace(\"AIRCRAFT MANUFACTURERS\",\"secondary\")\n",
    "AF6ind[\"Ind\"] = AF6[\"Ind\"].replace(\"AUTO PARTS-AFTER MARKET\",\"secondary\")\n",
    "AF6ind[\"Ind\"] = AF6[\"Ind\"].replace(\"AUTO PARTS-ORIGINAL EQUIPMENT\",\"secondary\")\n",
    "AF6ind[\"Ind\"] = AF6[\"Ind\"].replace(\"AUTO TRUCKS & PARTS\",\"secondary\")\n",
    "AF6ind[\"Ind\"] = AF6[\"Ind\"].replace(\"AUTOMOBILES\",\"secondary\")\n",
    "AF6ind[\"Ind\"] = AF6[\"Ind\"].replace(\"BEVERAGES-BREWERS\",\"secondary\")\n",
    "AF6ind[\"Ind\"] = AF6[\"Ind\"].replace(\"BEVERAGES-DISTILLERS\",\"secondary\")\n",
    "AF6ind[\"Ind\"] = AF6[\"Ind\"].replace(\"BEVERAGES-SOFT DRINKS\",\"secondary\")\n",
    "AF6ind[\"Ind\"] = AF6[\"Ind\"].replace(\"BUILDING MATERIALS\", \"secondary\")             \n",
    "AF6ind[\"Ind\"] = AF6[\"Ind\"].replace(\"CERAMICS\",\"secondary\")\n",
    "AF6ind[\"Ind\"] = AF6[\"Ind\"].replace(\"CHEMICALS-DIVERSIFIED\",\"secondary\")\n",
    "AF6ind[\"Ind\"] = AF6[\"Ind\"].replace(\"CHEMICALS\",  \"secondary\")                   \n",
    "AF6ind[\"Ind\"] = AF6[\"Ind\"].replace(\"COMMUNICATIONS EQUIPMENT\",\"secondary\")\n",
    "AF6ind[\"Ind\"] = AF6[\"Ind\"].replace(\"CONSTRUCTION\",\"secondary\")\n",
    "AF6ind[\"Ind\"] = AF6[\"Ind\"].replace(\"CONTAINERS\",\"secondary\")\n",
    "AF6ind[\"Ind\"] = AF6[\"Ind\"].replace(\"COSMETICS\", \"secondary\")                   \n",
    "AF6ind[\"Ind\"] = AF6[\"Ind\"].replace(\"DEFENSE ELECTRONICS\",\"secondary\")\n",
    "AF6ind[\"Ind\"] = AF6[\"Ind\"].replace(\"DIV COMPUTER/COMMUNICATION/OFFI\",\"secondary\")\n",
    "AF6ind[\"Ind\"] = AF6[\"Ind\"].replace(\"DIV CONSTRUCT & BUILDING MATL.\",\"secondary\")\n",
    "AF6ind[\"Ind\"] = AF6[\"Ind\"].replace(\"DIV ELECTRIC & GAS UTILITIES\",\"secondary\")\n",
    "AF6ind[\"Ind\"] = AF6[\"Ind\"].replace(\"DIV ELECTRONIC & INSTRUMENTS\", \"secondary\")  \n",
    "AF6ind[\"Ind\"] = AF6[\"Ind\"].replace(\"DIV FORESTRY & PAPER PRODUCTS\",\"secondary\")\n",
    "AF6ind[\"Ind\"] = AF6[\"Ind\"].replace(\"DIV TEXTILE & WEARING APPAREL\",\"secondary\")\n",
    "AF6ind[\"Ind\"] = AF6[\"Ind\"].replace(\"DIV'D INDUSTRIAL MANUFACTURING\",\"secondary\")\n",
    "AF6ind[\"Ind\"] = AF6[\"Ind\"].replace(\"DIV'D MACHINERY & ENGINEERING\",\"secondary\")  \n",
    "AF6ind[\"Ind\"] = AF6[\"Ind\"].replace(\"DIVERSE BEVERAGE/TOBACCO MF\",\"secondary\")\n",
    "AF6ind[\"Ind\"] = AF6[\"Ind\"].replace(\"DIVERSIFIED AUTO COMPONENTS\",\"secondary\")\n",
    "AF6ind[\"Ind\"] = AF6[\"Ind\"].replace(\"DIVERSIFIED CHEMICALS ETC.\",\"secondary\")\n",
    "AF6ind[\"Ind\"] = AF6[\"Ind\"].replace(\"DRUGS\",\"secondary\")\n",
    "AF6ind[\"Ind\"] = AF6[\"Ind\"].replace(\"ELEC UTIL.-WATER WORKS/SUPPLY\",\"secondary\")\n",
    "AF6ind[\"Ind\"] = AF6[\"Ind\"].replace(\"ELECTRICAL EQUIPMENT\",\"secondary\")\n",
    "AF6ind[\"Ind\"] = AF6[\"Ind\"].replace(\"ELECTRONICS\",\"secondary\")                 \n",
    "AF6ind[\"Ind\"] = AF6[\"Ind\"].replace(\"FABRICATED METAL PRODUCTS\",\"secondary\")   \n",
    "AF6ind[\"Ind\"] = AF6[\"Ind\"].replace(\"FERTILIZERS\",\"secondary\")\n",
    "AF6ind[\"Ind\"] = AF6[\"Ind\"].replace(\"FOOD PROCESSORS\",\"secondary\")               \n",
    "AF6ind[\"Ind\"] = AF6[\"Ind\"].replace(\"FOOD-SUGAR/CONFECTIONARY\",  \"secondary\")\n",
    "AF6ind[\"Ind\"] = AF6[\"Ind\"].replace(\"FORESTRY PRODUCTS\",\"secondary\")           \n",
    "AF6ind[\"Ind\"] = AF6[\"Ind\"].replace(\"FREIGHT FORWARDERS\", \"secondary\")           \n",
    "AF6ind[\"Ind\"] = AF6[\"Ind\"].replace(\"HEAVY ENG. & SHIPBUILDING\",\"secondary\")\n",
    "AF6ind[\"Ind\"] = AF6[\"Ind\"].replace(\"HOUSEHOLD DURABLES & APPLIANCE\",\"secondary\")\n",
    "AF6ind[\"Ind\"] = AF6[\"Ind\"].replace(\"INSTRUM'N/CONTROL EQUIPMENT\")\n",
    "AF6ind[\"Ind\"] = AF6[\"Ind\"].replace(\"IRON & STEEL\" , \"secondary\")                 \n",
    "AF6ind[\"Ind\"] = AF6[\"Ind\"].replace(\"MACHINE TOOLS\",\"secondary\")\n",
    "AF6ind[\"Ind\"] = AF6[\"Ind\"].replace(\"MACHINERY-CONSTRUCTION\",\"secondary\")\n",
    "AF6ind[\"Ind\"] = AF6[\"Ind\"].replace(\"MACHINERY-FARM EQUIPMENT\",\"secondary\")\n",
    "AF6ind[\"Ind\"] = AF6[\"Ind\"].replace(\"MACHINERY-INDUSTRIAL/SPECIALTY\" ,\"secondary\") \n",
    "AF6ind[\"Ind\"] = AF6[\"Ind\"].replace(\"MACHINERY\",\"secondary\")\n",
    "AF6ind[\"Ind\"] = AF6[\"Ind\"].replace(\"OFFICE EQUIPMENT\",\"secondary\")\n",
    "AF6ind[\"Ind\"] = AF6[\"Ind\"].replace(\"PAPER & PAPER PRODUCTS\",\"secondary\")\n",
    "AF6ind[\"Ind\"] = AF6[\"Ind\"].replace(\"PETROLEUM PRODUCTS/REFINERIES\", \"secondary\")  \n",
    "AF6ind[\"Ind\"] = AF6[\"Ind\"].replace(\"POLLUTION CONTROL\",\"secondary\")\n",
    "AF6ind[\"Ind\"] = AF6[\"Ind\"].replace(\"PRINTING\",\"secondary\")                \n",
    "AF6ind[\"Ind\"] = AF6[\"Ind\"].replace(\"RAIL & ROAD TRANSPORT\",\"secondary\")\n",
    "AF6ind[\"Ind\"] = AF6[\"Ind\"].replace(\"STORAGE\",\"secondary\")\n",
    "AF6ind[\"Ind\"] = AF6[\"Ind\"].replace(\"TEXTILE PRODUCTS\",\"secondary\")\n",
    "AF6ind[\"Ind\"] = AF6[\"Ind\"].replace(\"TIRE & RUBBER GOODS\",\"secondary\")\n",
    "AF6ind[\"Ind\"] = AF6[\"Ind\"].replace(\"TOBACCO MF\",\"secondary\")\n",
    "AF6ind[\"Ind\"] = AF6[\"Ind\"].replace(\"ADVERTISING\",\"secondary\")\n",
    "AF6ind[\"Ind\"] = AF6[\"Ind\"].replace(\"APPAREL\" ,\"tertiary\")                       \n",
    "AF6ind[\"Ind\"] = AF6[\"Ind\"].replace(\"BROADCASTING MEDIA\",\"tertiary\")              \n",
    "AF6ind[\"Ind\"] = AF6[\"Ind\"].replace(\"BUSINESS SERVICES & COMPUTERS\",\"tertiary\")\n",
    "AF6ind[\"Ind\"] = AF6[\"Ind\"].replace(\"BUSINESS SERVICES\",\"tertiary\")\n",
    "AF6ind[\"Ind\"] = AF6[\"Ind\"].replace(\"COMMERCIAL BANKS & OTHER BANKS\",\"tertiary\")\n",
    "AF6ind[\"Ind\"] = AF6[\"Ind\"].replace(\"COMPUTER SOFTWARE & SERVICES\",\"tertiary\")  \n",
    "AF6ind[\"Ind\"] = AF6[\"Ind\"].replace(\"COMPUTERS\",\"tertiary\")\n",
    "AF6ind[\"Ind\"] = AF6[\"Ind\"].replace(\"DIV ENTERTAINMENT/LEISURE/TOYS\",\"tertiary\")\n",
    "AF6ind[\"Ind\"] = AF6[\"Ind\"].replace(\"DIV'D CONSUMER GOODS/SERVICES\",\"tertiary\")\n",
    "AF6ind[\"Ind\"] = AF6[\"Ind\"].replace(\"DIV'D FOODS & GROCERY PRODUCT\" ,\"tertiary\") \n",
    "AF6ind[\"Ind\"] = AF6[\"Ind\"].replace(\"DIV'D HEALTH & PERSONAL CARE\",\"tertiary\")\n",
    "AF6ind[\"Ind\"] = AF6[\"Ind\"].replace(\"DIVERSE FINANCIAL INST.& SERV\",\"tertiary\")  \n",
    "AF6ind[\"Ind\"] = AF6[\"Ind\"].replace(\"DIVERSIFIED HOLDING COMPANIES\",\"tertiary\")  \n",
    "AF6ind[\"Ind\"] = AF6[\"Ind\"].replace(\"DIVERSIFIED MEDIA\",\"tertiary\")             \n",
    "AF6ind[\"Ind\"] = AF6[\"Ind\"].replace(\"DIVERSIFIED RETAIL TRADE\" ,\"tertiary\")    \n",
    "AF6ind[\"Ind\"] = AF6[\"Ind\"].replace(\"DIVERSIFIED WHOLESALE TRADE\",\"tertiary\")\n",
    "AF6ind[\"Ind\"] = AF6[\"Ind\"].replace(\"ENERGY EQUIPMENT 7 SERVICES\",\"tertiary\")\n",
    "AF6ind[\"Ind\"] = AF6[\"Ind\"].replace(\"ENGINEERING SERVICES\", \"tertiary\")     \n",
    "AF6ind[\"Ind\"] = AF6[\"Ind\"].replace(\"ENTERTAINMENT & LEISURE TIME\" ,\"tertiary\")   \n",
    "AF6ind[\"Ind\"] = AF6[\"Ind\"].replace(\"FINANCIAL INSTITUTIONS\",\"tertiary\")         \n",
    "AF6ind[\"Ind\"] = AF6[\"Ind\"].replace(\"FINANCIAL SERVICES\",\"tertiary\")\n",
    "AF6ind[\"Ind\"] = AF6[\"Ind\"].replace(\"HOSPITAL SUPPLY/MANAGEMENT\",\"tertiary\")\n",
    "AF6ind[\"Ind\"] = AF6[\"Ind\"].replace(\"INSURANCE-LIFE\",\"tertiary\")        \n",
    "AF6ind[\"Ind\"] = AF6[\"Ind\"].replace(\"INSURANCE-MULTILINE\" ,\"tertiary\")           \n",
    "AF6ind[\"Ind\"] = AF6[\"Ind\"].replace(\"INSURANCE-PROPERTY & CASUALTY\",\"tertiary\")\n",
    "AF6ind[\"Ind\"] = AF6[\"Ind\"].replace(\"INVESTMENT COMPANY\",\"tertiary\")             \n",
    "AF6ind[\"Ind\"] = AF6[\"Ind\"].replace(\"INVESTMENT TRUSTS\",\"tertiary\")\n",
    "AF6ind[\"Ind\"] = AF6[\"Ind\"].replace(\"PUBLISHING-NEWSPAPERS\",\"tertiary\")\n",
    "AF6ind[\"Ind\"] = AF6[\"Ind\"].replace(\"PUBLISHING\",\"tertiary\")\n",
    "AF6ind[\"Ind\"] = AF6[\"Ind\"].replace(\"REAL ESTATE\" ,\"tertiary\")                \n",
    "AF6ind[\"Ind\"] = AF6[\"Ind\"].replace(\"RESTAURANTS & HOTELS\" , \"tertiary\")         \n",
    "AF6ind[\"Ind\"] = AF6[\"Ind\"].replace(\"RETAIL GENERAL MERCHANDISE\" ,\"tertiary\")   \n",
    "AF6ind[\"Ind\"] = AF6[\"Ind\"].replace(\"RETAIL-DEPARTMENT STORE\",\"tertiary\")\n",
    "AF6ind[\"Ind\"] = AF6[\"Ind\"].replace(\"RETAIL-GROCERY CHAINS\",\"tertiary\")          \n",
    "AF6ind[\"Ind\"] = AF6[\"Ind\"].replace(\"SEA TRANSPORT\",\"tertiary\")                  \n",
    "AF6ind[\"Ind\"] = AF6[\"Ind\"].replace(\"TELEPHONE COMPANIES\",\"tertiary\")\n",
    "AF6ind[\"Ind\"] = AF6[\"Ind\"].replace(\"WHOLESALE-DURABLES\",\"tertiary\")\n",
    "AF6ind[\"Ind\"] = AF6[\"Ind\"].replace(\"WHOLESALE-NONDURABLES\",\"tertiary\")\n",
    "AF6ind[\"Ind\"] = AF6[\"Ind\"].replace(\"HEALTH CARE\",\"quaternary\")                "
   ]
  },
  {
   "cell_type": "code",
   "execution_count": 6,
   "id": "2c1c20f0",
   "metadata": {},
   "outputs": [],
   "source": [
    "AF6ind[\"Ind\"] = AF6[\"Ind\"].replace(\"RETAIL-MISC./SPECIALTY\",\"quaternary\")\n",
    "AF6ind[\"Ind\"] = AF6[\"Ind\"].replace(\"HOMEBUILDING\",\"secondary\")\n",
    "AF6ind[\"Ind\"] = AF6[\"Ind\"].replace(\"PHOTOGRAPHY\",\"tertiary\")\n",
    "AF6ind[\"Ind\"] = AF6[\"Ind\"].replace(\"TOYS\",\"secondary\")\n",
    "AF6ind[\"Ind\"] = AF6[\"Ind\"].replace(\"RETAIL-DRUG CHAINS\",\"tertiary\")\n",
    "AF6ind[\"Ind\"] = AF6[\"Ind\"].replace(\"FOOTWEAR\",\"tertiary\")\n",
    "AF6ind[\"Ind\"] = AF6[\"Ind\"].replace(\"AEROSPACE/DEFENSE\",\"quaternary\")\n",
    "AF6ind[\"Ind\"] = AF6[\"Ind\"].replace(\"CAD/CAM/CAE\",\"tertiary\")\n",
    "AF6ind[\"Ind\"] = AF6[\"Ind\"].replace(\"INSURANCE-AGENTS & BROKERS\",\"tertiary\")\n",
    "AF6ind[\"Ind\"] = AF6[\"Ind\"].replace(\"SOAPS\",\"tertiary\")\n",
    "AF6ind[\"Ind\"] = AF6[\"Ind\"].replace(\"DIVERSIFIED AEROSPACE/DEFENSE\",\"quaternary\")\n",
    "AF6ind[\"Ind\"] = AF6[\"Ind\"].replace(\"DIVERSE INSURANCE/LIFE & AGENT\",\"tertiary\")"
   ]
  },
  {
   "cell_type": "code",
   "execution_count": 7,
   "id": "5b3c0b72",
   "metadata": {},
   "outputs": [
    {
     "data": {
      "text/plain": [
       "array(['secondary', 'primary', 'tertiary', 'quaternary', nan],\n",
       "      dtype=object)"
      ]
     },
     "execution_count": 7,
     "metadata": {},
     "output_type": "execute_result"
    }
   ],
   "source": [
    "AF6ind[\"Ind\"].unique()"
   ]
  },
  {
   "cell_type": "code",
   "execution_count": 8,
   "id": "31fe4a31",
   "metadata": {},
   "outputs": [],
   "source": [
    "AF6ind.to_csv(\"JP5ind.csv\")"
   ]
  },
  {
   "cell_type": "code",
   "execution_count": null,
   "id": "2965b364",
   "metadata": {},
   "outputs": [],
   "source": []
  }
 ],
 "metadata": {
  "kernelspec": {
   "display_name": "Python 3",
   "language": "python",
   "name": "python3"
  },
  "language_info": {
   "codemirror_mode": {
    "name": "ipython",
    "version": 3
   },
   "file_extension": ".py",
   "mimetype": "text/x-python",
   "name": "python",
   "nbconvert_exporter": "python",
   "pygments_lexer": "ipython3",
   "version": "3.8.8"
  }
 },
 "nbformat": 4,
 "nbformat_minor": 5
}
